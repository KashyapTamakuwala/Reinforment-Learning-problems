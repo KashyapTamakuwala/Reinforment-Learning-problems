{
  "cells": [
    {
      "cell_type": "code",
      "execution_count": null,
      "id": "7fee2dc6",
      "metadata": {
        "id": "7fee2dc6"
      },
      "outputs": [],
      "source": [
        "%matplotlib inline\n",
        "\n",
        "#import gym\n",
        "import matplotlib\n",
        "import numpy as np\n",
        "import itertools\n",
        "from envs.Hospitalenv import Hostipal\n",
        "\n",
        "import matplotlib.pyplot as plt\n",
        "from envs import Plotting\n",
        "from collections import defaultdict\n",
        "import sys\n",
        "import seaborn as sns\n",
        "import timeit\n",
        "\n",
        "matplotlib.style.use('ggplot')\n",
        "import math"
      ]
    },
    {
      "cell_type": "code",
      "execution_count": null,
      "id": "2b3ccac7",
      "metadata": {
        "id": "2b3ccac7"
      },
      "outputs": [],
      "source": [
        "lam=6 ## for generating request from possion distribution with Lambda = lam\n",
        "beds=100\n",
        "\n",
        "env=Hostipal(beds,lam)"
      ]
    },
    {
      "cell_type": "code",
      "execution_count": null,
      "id": "ae56f3bd",
      "metadata": {
        "id": "ae56f3bd"
      },
      "outputs": [],
      "source": [
        "def mat(row,col,val):\n",
        "    matrow=[]\n",
        "    for i in range(row):\n",
        "        matrow.append(val)\n",
        "    mat=[]\n",
        "    for j in range(col):\n",
        "        mat.append(list(matrow))\n",
        "    return mat\n"
      ]
    },
    {
      "cell_type": "code",
      "execution_count": null,
      "id": "ab49dcf3",
      "metadata": {
        "id": "ab49dcf3"
      },
      "outputs": [],
      "source": [
        "Q_table=mat(env.m,env.m,0.5)\n",
        "N_table=mat(env.m,env.m,1)\n",
        "R_table=mat(env.m,env.m,0)\n"
      ]
    },
    {
      "cell_type": "code",
      "execution_count": null,
      "id": "09a82e8b",
      "metadata": {
        "id": "09a82e8b"
      },
      "outputs": [],
      "source": [
        "def policy_MCTS(env,Q,N,s):\n",
        "    max1=-100000000000\n",
        "    a=None\n",
        "    C=1.414\n",
        "    \n",
        "    \n",
        "    for a in range(env.m-env.OccupiedBed):\n",
        "        log_value=np.log(N[s][a])\n",
        "        tar_value=log_value/sum(N[s])\n",
        "        U=C*math.sqrt(tar_value)\n",
        "        pi=U+Q[s][a]\n",
        "        if pi>=max1:\n",
        "            max1=pi\n",
        "            action=a\n",
        "    return action \n",
        "            \n",
        "        "
      ]
    },
    {
      "cell_type": "code",
      "execution_count": null,
      "id": "a9a84709",
      "metadata": {
        "id": "a9a84709"
      },
      "outputs": [],
      "source": [
        "def make_epsilon_greedy_policy(Q, epsilon, nA,env,N):\n",
        "    \"\"\"\n",
        "    Creates an epsilon-greedy policy based on a given Q-function and epsilon.\n",
        "    \n",
        "    Args:\n",
        "        Q: A dictionary that maps from state -> action-values.\n",
        "            Each value is a numpy array of length nA (see below)\n",
        "        epsilon: The probability to select a random action . float between 0 and 1.\n",
        "        nA: Number of actions in the environment.\n",
        "    \n",
        "    Returns:\n",
        "        A function that takes the observation as an argument and returns\n",
        "        the probabilities for each action in the form of a numpy array of length nA.\n",
        "    \n",
        "    \"\"\"\n",
        "    def policy_fn(observation):\n",
        "       \n",
        "        A = np.ones(env.m-env.OccupiedBed, dtype=float) * epsilon / (env.m-env.OccupiedBed)\n",
        "        \n",
        "        #print(\"OccupiedBed\",env.OccupiedBed)\n",
        "        \n",
        "        #print(\"A\",A)\n",
        "        \n",
        "        best_action = policy_MCTS(env,Q,N,observation)\n",
        "        A[best_action] += (1.0 - epsilon)\n",
        "        return A\n",
        "    return policy_fn\n"
      ]
    },
    {
      "cell_type": "code",
      "execution_count": null,
      "id": "7553c1f6",
      "metadata": {
        "id": "7553c1f6"
      },
      "outputs": [],
      "source": [
        "# def make_epsilon_greedy_policy1(Q, epsilon, nA,env):\n",
        "#     \"\"\"\n",
        "#     Creates an epsilon-greedy policy based on a given Q-function and epsilon.\n",
        "    \n",
        "#     Args:\n",
        "#         Q: A dictionary that maps from state -> action-values.\n",
        "#             Each value is a numpy array of length nA (see below)\n",
        "#         epsilon: The probability to select a random action . float between 0 and 1.\n",
        "#         nA: Number of actions in the environment.\n",
        "    \n",
        "#     Returns:\n",
        "#         A function that takes the observation as an argument and returns\n",
        "#         the probabilities for each action in the form of a numpy array of length nA.\n",
        "    \n",
        "#     \"\"\"\n",
        "#     def policy_fn(observation):\n",
        "       \n",
        "#         A = np.ones(env.m-env.OccupiedBed, dtype=float) * epsilon / (env.m-env.OccupiedBed)\n",
        "        \n",
        "#         #print(\"OccupiedBed\",env.OccupiedBed)\n",
        "        \n",
        "#         #print(\"A\",A)\n",
        "        \n",
        "#         best_action = np.argmax(Q[observation])\n",
        "#         A[best_action] += (1.0 - epsilon)\n",
        "#         return A\n",
        "#     return policy_fn\n"
      ]
    },
    {
      "cell_type": "code",
      "execution_count": null,
      "id": "46250d3a",
      "metadata": {
        "id": "46250d3a"
      },
      "outputs": [],
      "source": [
        "def q_learning(env, num_episodes, discount_factor=1.0, alpha=0.1, epsilon=0.1):\n",
        "    \"\"\"\n",
        "    Q-Learning algorithm: Off-policy TD control. Finds the optimal greedy policy\n",
        "    while following an epsilon-greedy policy\n",
        "    \n",
        "    Args:\n",
        "        env: OpenAI environment.\n",
        "        num_episodes: Number of episodes to run for.\n",
        "        discount_factor: Gamma discount factor.\n",
        "        alpha: TD learning rate.\n",
        "        epsilon: Chance the sample a random action. Float betwen 0 and 1.\n",
        "    \n",
        "    Returns:\n",
        "        A tuple (Q, episode_lengths).\n",
        "        Q is the optimal action-value function, a dictionary mapping state -> action values.\n",
        "        stats is an EpisodeStats object with two numpy arrays for episode_lengths and episode_rewards.\n",
        "    \"\"\"\n",
        "    global Q_table\n",
        "    global N_table\n",
        "    global R_table\n",
        "    nA = env.m \n",
        "    Q=Q_table\n",
        "    N=N_table\n",
        "    R=R_table\n",
        "    #print(nA)\n",
        "    \n",
        "    # The final action-value function.\n",
        "    # A nested dictionary that maps state -> (action -> action-value).\n",
        "#Q = defaultdict(lambda: np.zeros(nA))\n",
        "       \n",
        "\n",
        "    #print(len(Q))\n",
        "    # Keeps track of useful statistics\n",
        "    stats = Plotting.EpisodeStats(\n",
        "        episode_lengths=np.zeros(num_episodes),\n",
        "        episode_rewards=np.zeros(num_episodes))    \n",
        "    \n",
        "    # The policy we're following\n",
        "    policy = make_epsilon_greedy_policy(Q, epsilon, nA,env,N)\n",
        "    \n",
        "    for i_episode in range(num_episodes)  :\n",
        "        \n",
        "        epsilon /= (i_episode + 1)\n",
        "        N=mat(env.m,env.m,1)\n",
        "        \n",
        "        # Print out which episode we're on, useful for debugging.\n",
        "        if ((i_episode + 1) % 500 == 0):\n",
        "            print(\"Episode {}/{}.\".format(i_episode + 1, num_episodes),flush=True)\n",
        "            sys.stdout.flush()\n",
        "        \n",
        "        #print(\"reset\")\n",
        "        state = env.reset()\n",
        "        terminated = False\n",
        "#         Q=MCTS(env,state)\n",
        "        for t in itertools.count():\n",
        "\n",
        "            #sys.stdout.write('\\r'+str(t))\n",
        "            \n",
        "            request=max(1,env.request())\n",
        "            #print(\"request\",request)\n",
        "            # sample the action from the epsilon greedy policy\n",
        "            action = min(np.random.choice(env.m-env.OccupiedBed, p=policy(state)),request)\n",
        "            #sys.stdout.write('actions --> \\r'+ env.possibleaction[action])\n",
        "            \n",
        "            #print(\"action :\",action)\n",
        "            \n",
        "            # Perform the action -> Get the reward and observe the next state\n",
        "            #print(\"Before\",env.getAgentRowAndColoumn(),\"action\",env.possibleaction[action])\n",
        "            new_state, reward, terminated, old_state = env.step(action)\n",
        "\n",
        "            \n",
        "#             print(\"reward :\",reward)\n",
        "#             print(\"old state\",old_state)\n",
        "#             print(\"action\",action)\n",
        "#             print(\"new_state :\",new_state)\n",
        "#             print('-'*100)\n",
        "\n",
        "            \n",
        "            stats.episode_rewards[i_episode] += reward\n",
        "            stats.episode_lengths[i_episode] = t\n",
        "\n",
        "            # value that we should have got\n",
        "            # The Q-learning target policy is a greedy one, hence the `max`\n",
        "#             td_target = reward + discount_factor * max(Q[new_state])\n",
        "#             td_error = td_target - Q[state][action]\n",
        "            # Updating N\n",
        "            N[state][action]+=1\n",
        "            R[state][action]+=reward\n",
        "            # Q-learning update\n",
        "            Q[state][action] = (Q[state][action]+R[state][action]+max(Q[state]))/N[state][action]\n",
        "            \n",
        "            # update current state\n",
        "            state = new_state\n",
        "            \n",
        "            if terminated:\n",
        "                break\n",
        "    return Q, stats"
      ]
    },
    {
      "cell_type": "code",
      "execution_count": null,
      "id": "8a136401",
      "metadata": {
        "scrolled": true,
        "id": "8a136401"
      },
      "outputs": [],
      "source": [
        "Q, stats = q_learning(env, 100)"
      ]
    },
    {
      "cell_type": "code",
      "execution_count": null,
      "id": "59be9907",
      "metadata": {
        "id": "59be9907"
      },
      "outputs": [],
      "source": [
        "dict_Q={}\n",
        "for i , j in enumerate(Q):\n",
        "    dict_Q[i]=np.array(j)\n",
        "    \n",
        "    "
      ]
    },
    {
      "cell_type": "code",
      "execution_count": null,
      "id": "51631871",
      "metadata": {
        "scrolled": false,
        "id": "51631871",
        "outputId": "e2e9c348-3b12-40d3-a376-5978cf99bb44"
      },
      "outputs": [
        {
          "data": {
            "image/png": "[encoded data removed]",
            "text/plain": [
              "<Figure size 720x360 with 1 Axes>"
            ]
          },
          "metadata": {},
          "output_type": "display_data"
        },
        {
          "data": {
            "image/png": "[encoded data removed]",
            "text/plain": [
              "<Figure size 720x360 with 1 Axes>"
            ]
          },
          "metadata": {},
          "output_type": "display_data"
        },
        {
          "data": {
            "image/png": "[encoded data removed]",
            "text/plain": [
              "<Figure size 720x360 with 1 Axes>"
            ]
          },
          "metadata": {},
          "output_type": "display_data"
        },
        {
          "data": {
            "text/plain": [
              "(<Figure size 720x360 with 1 Axes>,\n",
              " <Figure size 720x360 with 1 Axes>,\n",
              " <Figure size 720x360 with 1 Axes>)"
            ]
          },
          "execution_count": 12,
          "metadata": {},
          "output_type": "execute_result"
        }
      ],
      "source": [
        "Plotting.plot_episode_stats(stats)"
      ]
    },
    {
      "cell_type": "code",
      "execution_count": null,
      "id": "1d3396e5",
      "metadata": {
        "id": "1d3396e5"
      },
      "outputs": [],
      "source": [
        "#Plotting.plot_episode_stats(stats1)"
      ]
    },
    {
      "cell_type": "code",
      "execution_count": null,
      "id": "13996d38",
      "metadata": {
        "id": "13996d38",
        "outputId": "a29fe16e-9aa5-4d10-afa7-dd0c34c3defd"
      },
      "outputs": [
        {
          "data": {
            "text/plain": [
              "Stats(episode_lengths=array([ 8.,  1.,  8., 67.,  1., 34., 10.,  1., 32.,  4.,  6.,  4., 17.,\n",
              "       24.,  2.,  5.,  7., 10.,  2., 68., 24.,  7.,  4.,  3., 14., 14.,\n",
              "        5., 10.,  4.,  1., 12.,  4., 31.,  5.,  8., 24., 14., 21.,  6.,\n",
              "        4., 19.,  3., 25.,  8., 10., 27., 19.,  9.,  1.,  6.,  7., 20.,\n",
              "        7.,  9.,  7.,  7.,  8., 12.,  1.,  2.,  4., 16.,  1.,  6.,  4.,\n",
              "        2.,  7.,  2.,  8.,  6.,  4.,  7., 17.,  5., 10.,  2.,  5.,  2.,\n",
              "       29.,  1., 42., 13.,  1., 15., 14., 17., 13.,  3.,  4.,  7.,  2.,\n",
              "        2.,  2., 11.,  4., 18., 10., 20., 13.,  9.]), episode_rewards=array([ 54.,  16.,  58., 307.,  18., 151.,  43.,  11., 153.,  23.,  32.,\n",
              "        21.,  70., 107.,  10.,  27.,  29.,  43.,  14., 298., 117.,  37.,\n",
              "        25.,  13.,  72.,  72.,  25.,  48.,  27.,  11.,  60.,  24., 137.,\n",
              "        26.,  55., 105.,  71.,  92.,  35.,  23.,  91.,  17., 100.,  45.,\n",
              "        48., 112.,  84.,  50.,  10.,  40.,  34.,  96.,  36.,  47.,  39.,\n",
              "        33.,  48.,  56.,  10.,  11.,  23.,  77.,  13.,  31.,  21.,  20.,\n",
              "        29.,  14.,  42.,  37.,  19.,  36.,  69.,  26.,  55.,  16.,  32.,\n",
              "        12., 120.,  16., 172.,  65.,  13.,  64.,  65.,  78.,  58.,  21.,\n",
              "        25.,  39.,  11.,  12.,  20.,  60.,  20.,  77.,  43.,  87.,  55.,\n",
              "        41.]))"
            ]
          },
          "execution_count": 14,
          "metadata": {},
          "output_type": "execute_result"
        }
      ],
      "source": [
        "stats\n"
      ]
    },
    {
      "cell_type": "code",
      "execution_count": null,
      "id": "6681085a",
      "metadata": {
        "id": "6681085a"
      },
      "outputs": [],
      "source": [
        "state_action=dict()\n",
        "q_value=dict()\n",
        "for i in dict_Q.keys():\n",
        "    state_action[i]=np.argmax(Q[i])\n",
        "    q_value[i]=np.max(Q[i])"
      ]
    },
    {
      "cell_type": "code",
      "execution_count": null,
      "id": "9a0bd49b",
      "metadata": {
        "id": "9a0bd49b",
        "outputId": "50212104-6c79-4e1e-d3fd-bbbf8386b399"
      },
      "outputs": [
        {
          "name": "stdout",
          "output_type": "stream",
          "text": [
            "i 0 action 0\n",
            "i 1 action 5\n",
            "i 2 action 4\n",
            "i 3 action 7\n",
            "i 4 action 4\n",
            "i 5 action 5\n",
            "i 6 action 5\n",
            "i 7 action 2\n",
            "i 8 action 4\n",
            "i 9 action 6\n",
            "i 10 action 1\n",
            "i 11 action 5\n",
            "i 12 action 1\n",
            "i 13 action 6\n",
            "i 14 action 0\n",
            "i 15 action 0\n",
            "i 16 action 0\n",
            "i 17 action 0\n",
            "i 18 action 0\n",
            "i 19 action 0\n",
            "i 20 action 0\n",
            "i 21 action 0\n",
            "i 22 action 0\n",
            "i 23 action 0\n",
            "i 24 action 0\n",
            "i 25 action 0\n",
            "i 26 action 0\n",
            "i 27 action 0\n",
            "i 28 action 0\n",
            "i 29 action 0\n",
            "i 30 action 0\n",
            "i 31 action 0\n",
            "i 32 action 0\n",
            "i 33 action 0\n",
            "i 34 action 0\n",
            "i 35 action 0\n",
            "i 36 action 0\n",
            "i 37 action 0\n",
            "i 38 action 0\n",
            "i 39 action 0\n",
            "i 40 action 0\n",
            "i 41 action 0\n",
            "i 42 action 0\n",
            "i 43 action 0\n",
            "i 44 action 0\n",
            "i 45 action 0\n",
            "i 46 action 0\n",
            "i 47 action 0\n",
            "i 48 action 0\n",
            "i 49 action 0\n",
            "i 50 action 0\n",
            "i 51 action 0\n",
            "i 52 action 0\n",
            "i 53 action 0\n",
            "i 54 action 0\n",
            "i 55 action 0\n",
            "i 56 action 0\n",
            "i 57 action 0\n",
            "i 58 action 0\n",
            "i 59 action 0\n",
            "i 60 action 0\n",
            "i 61 action 0\n",
            "i 62 action 0\n",
            "i 63 action 0\n",
            "i 64 action 0\n",
            "i 65 action 0\n",
            "i 66 action 0\n",
            "i 67 action 0\n",
            "i 68 action 0\n",
            "i 69 action 0\n",
            "i 70 action 0\n",
            "i 71 action 0\n",
            "i 72 action 0\n",
            "i 73 action 0\n",
            "i 74 action 0\n",
            "i 75 action 0\n",
            "i 76 action 0\n",
            "i 77 action 0\n",
            "i 78 action 0\n",
            "i 79 action 0\n",
            "i 80 action 0\n",
            "i 81 action 0\n",
            "i 82 action 0\n",
            "i 83 action 0\n",
            "i 84 action 0\n",
            "i 85 action 0\n",
            "i 86 action 0\n",
            "i 87 action 0\n",
            "i 88 action 0\n",
            "i 89 action 0\n",
            "i 90 action 0\n",
            "i 91 action 0\n",
            "i 92 action 0\n",
            "i 93 action 0\n",
            "i 94 action 0\n",
            "i 95 action 0\n",
            "i 96 action 0\n",
            "i 97 action 0\n",
            "i 98 action 0\n",
            "i 99 action 0\n"
          ]
        }
      ],
      "source": [
        "for i in sorted(state_action.keys()):\n",
        "    print(\"i\",i,\"action\",state_action[i])"
      ]
    },
    {
      "cell_type": "code",
      "execution_count": null,
      "id": "187e1060",
      "metadata": {
        "id": "187e1060",
        "outputId": "a03cafca-d519-4804-ac32-e2097ffe7165"
      },
      "outputs": [
        {
          "name": "stdout",
          "output_type": "stream",
          "text": [
            "i 0 action 0.5\n",
            "i 1 action 127.6157004317036\n",
            "i 2 action 210.5121072682695\n",
            "i 3 action 309.51152705443747\n",
            "i 4 action 393.60755202697857\n",
            "i 5 action 540.547796670798\n",
            "i 6 action 1065.9079855573373\n",
            "i 7 action 2008.2872030138865\n",
            "i 8 action 1131.468404206676\n",
            "i 9 action 833.5555555555555\n",
            "i 10 action 266.3333333333333\n",
            "i 11 action 16.5\n",
            "i 12 action 21.0\n",
            "i 13 action 21.0\n",
            "i 14 action 0.5\n",
            "i 15 action 0.5\n",
            "i 16 action 0.5\n",
            "i 17 action 0.5\n",
            "i 18 action 0.5\n",
            "i 19 action 0.5\n",
            "i 20 action 0.5\n",
            "i 21 action 0.5\n",
            "i 22 action 0.5\n",
            "i 23 action 0.5\n",
            "i 24 action 0.5\n",
            "i 25 action 0.5\n",
            "i 26 action 0.5\n",
            "i 27 action 0.5\n",
            "i 28 action 0.5\n",
            "i 29 action 0.5\n",
            "i 30 action 0.5\n",
            "i 31 action 0.5\n",
            "i 32 action 0.5\n",
            "i 33 action 0.5\n",
            "i 34 action 0.5\n",
            "i 35 action 0.5\n",
            "i 36 action 0.5\n",
            "i 37 action 0.5\n",
            "i 38 action 0.5\n",
            "i 39 action 0.5\n",
            "i 40 action 0.5\n",
            "i 41 action 0.5\n",
            "i 42 action 0.5\n",
            "i 43 action 0.5\n",
            "i 44 action 0.5\n",
            "i 45 action 0.5\n",
            "i 46 action 0.5\n",
            "i 47 action 0.5\n",
            "i 48 action 0.5\n",
            "i 49 action 0.5\n",
            "i 50 action 0.5\n",
            "i 51 action 0.5\n",
            "i 52 action 0.5\n",
            "i 53 action 0.5\n",
            "i 54 action 0.5\n",
            "i 55 action 0.5\n",
            "i 56 action 0.5\n",
            "i 57 action 0.5\n",
            "i 58 action 0.5\n",
            "i 59 action 0.5\n",
            "i 60 action 0.5\n",
            "i 61 action 0.5\n",
            "i 62 action 0.5\n",
            "i 63 action 0.5\n",
            "i 64 action 0.5\n",
            "i 65 action 0.5\n",
            "i 66 action 0.5\n",
            "i 67 action 0.5\n",
            "i 68 action 0.5\n",
            "i 69 action 0.5\n",
            "i 70 action 0.5\n",
            "i 71 action 0.5\n",
            "i 72 action 0.5\n",
            "i 73 action 0.5\n",
            "i 74 action 0.5\n",
            "i 75 action 0.5\n",
            "i 76 action 0.5\n",
            "i 77 action 0.5\n",
            "i 78 action 0.5\n",
            "i 79 action 0.5\n",
            "i 80 action 0.5\n",
            "i 81 action 0.5\n",
            "i 82 action 0.5\n",
            "i 83 action 0.5\n",
            "i 84 action 0.5\n",
            "i 85 action 0.5\n",
            "i 86 action 0.5\n",
            "i 87 action 0.5\n",
            "i 88 action 0.5\n",
            "i 89 action 0.5\n",
            "i 90 action 0.5\n",
            "i 91 action 0.5\n",
            "i 92 action 0.5\n",
            "i 93 action 0.5\n",
            "i 94 action 0.5\n",
            "i 95 action 0.5\n",
            "i 96 action 0.5\n",
            "i 97 action 0.5\n",
            "i 98 action 0.5\n",
            "i 99 action 0.5\n"
          ]
        }
      ],
      "source": [
        "for i in sorted(q_value.keys()):\n",
        "    print(\"i\",i,\"action\",q_value[i])"
      ]
    },
    {
      "cell_type": "code",
      "execution_count": null,
      "id": "358b0340",
      "metadata": {
        "id": "358b0340"
      },
      "outputs": [],
      "source": [
        "# lam=9 ## for generating request from possion distribution with Lambda = lam\n",
        "# beds=10\n",
        "\n",
        "# env2=Hostipal(beds,lam)"
      ]
    },
    {
      "cell_type": "code",
      "execution_count": null,
      "id": "69df6cb7",
      "metadata": {
        "id": "69df6cb7"
      },
      "outputs": [],
      "source": [
        "# Q, stats = q_learning(env2, 10000)\n"
      ]
    },
    {
      "cell_type": "code",
      "execution_count": null,
      "id": "18126bf9",
      "metadata": {
        "id": "18126bf9"
      },
      "outputs": [],
      "source": [
        "# Plotting.plot_episode_stats(stats)"
      ]
    },
    {
      "cell_type": "code",
      "execution_count": null,
      "id": "6d8c1d1b",
      "metadata": {
        "id": "6d8c1d1b"
      },
      "outputs": [],
      "source": []
    }
  ],
  "metadata": {
    "kernelspec": {
      "display_name": "Python 3 (ipykernel)",
      "language": "python",
      "name": "python3"
    },
    "language_info": {
      "codemirror_mode": {
        "name": "ipython",
        "version": 3
      },
      "file_extension": ".py",
      "mimetype": "text/x-python",
      "name": "python",
      "nbconvert_exporter": "python",
      "pygments_lexer": "ipython3",
      "version": "3.8.12"
    },
    "colab": {
      "provenance": []
    }
  },
  "nbformat": 4,
  "nbformat_minor": 5
}